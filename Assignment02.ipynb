{
 "cells": [
  {
   "cell_type": "markdown",
   "metadata": {},
   "source": [
    "#Assignment 02\n",
    "#Name: Azizul kabir Lovlu\n",
    "#Email: lavlu.bcse@gmail.com"
   ]
  },
  {
   "cell_type": "markdown",
   "metadata": {},
   "source": [
    "#String: Strings in python are surrounded by either single quotation marks, or double quotation marks."
   ]
  },
  {
   "cell_type": "code",
   "execution_count": 1,
   "metadata": {},
   "outputs": [
    {
     "name": "stdout",
     "output_type": "stream",
     "text": [
      "Azizlul kabirlavlu\n"
     ]
    }
   ],
   "source": [
    "#for example \n",
    "first_name = 'Azizlul kabir'\n",
    "last_name = 'lavlu'\n",
    "full_name= first_name + last_name;\n",
    "print(full_name);"
   ]
  },
  {
   "cell_type": "markdown",
   "metadata": {},
   "source": [
    "#Multiline String: "
   ]
  },
  {
   "cell_type": "code",
   "execution_count": 2,
   "metadata": {},
   "outputs": [
    {
     "name": "stdout",
     "output_type": "stream",
     "text": [
      " Now a days i am learning data Science from Data nerd \n",
      "It is very exciting for me, I am always happy with learning any technology\n",
      "so It will very interesting for me\n"
     ]
    }
   ],
   "source": [
    "multiline = \"\"\" Now a days i am learning data Science from Data nerd \n",
    "It is very exciting for me, I am always happy with learning any technology\n",
    "so It will very interesting for me\"\"\"\n",
    "\n",
    "print(multiline);\n"
   ]
  },
  {
   "cell_type": "markdown",
   "metadata": {},
   "source": [
    "#String length "
   ]
  },
  {
   "cell_type": "code",
   "execution_count": 6,
   "metadata": {},
   "outputs": [
    {
     "name": "stdout",
     "output_type": "stream",
     "text": [
      "18\n"
     ]
    }
   ],
   "source": [
    "name ='Azizul kabir lavlu'\n",
    "print(len(name)) #len() is a build in function which output any string length;"
   ]
  },
  {
   "cell_type": "markdown",
   "metadata": {},
   "source": [
    "#Check String"
   ]
  },
  {
   "cell_type": "code",
   "execution_count": 8,
   "metadata": {},
   "outputs": [
    {
     "name": "stdout",
     "output_type": "stream",
     "text": [
      "True\n"
     ]
    }
   ],
   "source": [
    "print('kabir' in name); # this is print True or False "
   ]
  },
  {
   "cell_type": "code",
   "execution_count": 7,
   "metadata": {},
   "outputs": [
    {
     "name": "stdout",
     "output_type": "stream",
     "text": [
      "yes kabir is present\n"
     ]
    }
   ],
   "source": [
    "name ='Azizul kabir lavlu';\n",
    "if 'kabir in name':\n",
    "    print('yes kabir is present')\n",
    "else:\n",
    "    print('no kabir is not present in name');\n"
   ]
  },
  {
   "cell_type": "markdown",
   "metadata": {},
   "source": [
    "#Indexing string "
   ]
  },
  {
   "cell_type": "code",
   "execution_count": 3,
   "metadata": {},
   "outputs": [
    {
     "name": "stdout",
     "output_type": "stream",
     "text": [
      "z\n"
     ]
    }
   ],
   "source": [
    "name = 'Azizul kabir';\n",
    "print(name[1]) #this is print first z because z's index number is 1;\n"
   ]
  },
  {
   "cell_type": "markdown",
   "metadata": {},
   "source": [
    "#Slicing String "
   ]
  },
  {
   "cell_type": "code",
   "execution_count": 4,
   "metadata": {},
   "outputs": [
    {
     "name": "stdout",
     "output_type": "stream",
     "text": [
      "Azizu\n"
     ]
    }
   ],
   "source": [
    "print(name[0:5]) # this is print first to 4 index string "
   ]
  },
  {
   "cell_type": "code",
   "execution_count": 5,
   "metadata": {},
   "outputs": [
    {
     "name": "stdout",
     "output_type": "stream",
     "text": [
      " kabir\n"
     ]
    }
   ],
   "source": [
    "print(name[6:]) # this is print 5 index to last "
   ]
  },
  {
   "cell_type": "markdown",
   "metadata": {},
   "source": [
    "#Modify string "
   ]
  },
  {
   "cell_type": "code",
   "execution_count": 9,
   "metadata": {},
   "outputs": [
    {
     "name": "stdout",
     "output_type": "stream",
     "text": [
      "AZIZUL KABIR LAVLU\n"
     ]
    }
   ],
   "source": [
    "print(name.upper()) # upper() is a built in method which is print upper case of all the text,"
   ]
  },
  {
   "cell_type": "code",
   "execution_count": 10,
   "metadata": {},
   "outputs": [
    {
     "name": "stdout",
     "output_type": "stream",
     "text": [
      "azizul kabir lavlu\n"
     ]
    }
   ],
   "source": [
    "print(name.lower()) # lower() is a built in method which is print lower case of all the text,"
   ]
  },
  {
   "cell_type": "code",
   "execution_count": 12,
   "metadata": {},
   "outputs": [
    {
     "name": "stdout",
     "output_type": "stream",
     "text": [
      "Azizul Kabir Lavlu\n"
     ]
    }
   ],
   "source": [
    "print(name.title()) # this method change first later of all word to upper case "
   ]
  },
  {
   "cell_type": "code",
   "execution_count": 13,
   "metadata": {},
   "outputs": [
    {
     "name": "stdout",
     "output_type": "stream",
     "text": [
      "Azizul kabir lavlu\n"
     ]
    }
   ],
   "source": [
    "print(name.strip()) # this method remove any kinds of white space from start and end"
   ]
  },
  {
   "cell_type": "code",
   "execution_count": 14,
   "metadata": {},
   "outputs": [
    {
     "name": "stdout",
     "output_type": "stream",
     "text": [
      "Azizul kobir lovlu\n"
     ]
    }
   ],
   "source": [
    "print(name.replace('a', 'o')); # this method replace a later to another in string by order;"
   ]
  },
  {
   "cell_type": "code",
   "execution_count": 15,
   "metadata": {},
   "outputs": [
    {
     "name": "stdout",
     "output_type": "stream",
     "text": [
      "['Azizul', 'kabir', 'lavlu']\n"
     ]
    }
   ],
   "source": [
    "print(name.split(' ')) # split method convert a string to list by the direction"
   ]
  },
  {
   "cell_type": "markdown",
   "metadata": {},
   "source": [
    "#Format String "
   ]
  },
  {
   "cell_type": "code",
   "execution_count": 16,
   "metadata": {},
   "outputs": [
    {
     "name": "stdout",
     "output_type": "stream",
     "text": [
      "My name is lavlu, I am 26 years old and my interesting in programming\n"
     ]
    }
   ],
   "source": [
    "name = 'lavlu';\n",
    "age = 26;\n",
    "hobby = 'programming';\n",
    "print(f'My name is {name}, I am {age} years old and my interesting in {hobby}') \n"
   ]
  },
  {
   "cell_type": "markdown",
   "metadata": {},
   "source": [
    "#Escape Character"
   ]
  },
  {
   "cell_type": "code",
   "execution_count": 18,
   "metadata": {},
   "outputs": [
    {
     "name": "stdout",
     "output_type": "stream",
     "text": [
      "I am Brazil's fan\n"
     ]
    }
   ],
   "source": [
    "text = 'I am Brazil\\'s fan' # in this text ' escape by the operator od \\\n",
    "print(text);"
   ]
  }
 ],
 "metadata": {
  "kernelspec": {
   "display_name": "Python 3.11.0 64-bit",
   "language": "python",
   "name": "python3"
  },
  "language_info": {
   "codemirror_mode": {
    "name": "ipython",
    "version": 3
   },
   "file_extension": ".py",
   "mimetype": "text/x-python",
   "name": "python",
   "nbconvert_exporter": "python",
   "pygments_lexer": "ipython3",
   "version": "3.11.0"
  },
  "orig_nbformat": 4,
  "vscode": {
   "interpreter": {
    "hash": "52634da84371cba311ea128a5ea7cdc41ff074b781779e754b270ff9f8153cee"
   }
  }
 },
 "nbformat": 4,
 "nbformat_minor": 2
}
